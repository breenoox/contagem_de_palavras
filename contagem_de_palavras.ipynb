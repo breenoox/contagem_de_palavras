{
  "nbformat": 4,
  "nbformat_minor": 0,
  "metadata": {
    "colab": {
      "provenance": []
    },
    "kernelspec": {
      "name": "python3",
      "display_name": "Python 3"
    },
    "language_info": {
      "name": "python"
    }
  },
  "cells": [
    {
      "cell_type": "code",
      "execution_count": 53,
      "metadata": {
        "id": "ebut984NkB7U"
      },
      "outputs": [],
      "source": [
        "def contar_palavras(frase: str):\n",
        "  palavras = frase.split()\n",
        "  return len(palavras)"
      ]
    },
    {
      "cell_type": "code",
      "source": [
        "frase = \"O gato roeu a roupa do rei de roma\"\n",
        "numero_palavras = contar_palavras(frase)\n",
        "print(\"Número de palavras:\", numero_palavras)"
      ],
      "metadata": {
        "colab": {
          "base_uri": "https://localhost:8080/"
        },
        "id": "0M0oecfQpT4e",
        "outputId": "87f8c992-50d6-466a-e961-5b1948fc53b0"
      },
      "execution_count": 55,
      "outputs": [
        {
          "output_type": "stream",
          "name": "stdout",
          "text": [
            "Número de palavras: 9\n"
          ]
        }
      ]
    }
  ]
}